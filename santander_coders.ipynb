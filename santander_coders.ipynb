{
 "cells": [
  {
   "cell_type": "markdown",
   "metadata": {},
   "source": [
    "# Quantas pastas dentais são vendidas no Brasil por mês?"
   ]
  },
  {
   "cell_type": "markdown",
   "metadata": {},
   "source": [
    "Para responder a essa pergunta, foram adotadas as seguintes premissas:"
   ]
  },
  {
   "cell_type": "markdown",
   "metadata": {},
   "source": [
    "1. Por limitação de dados e recursos, será apresentada uma metodologia de como chegar a uma possível resposta que seja proxima à realidade."
   ]
  },
  {
   "cell_type": "markdown",
   "metadata": {},
   "source": [
    "2. Há uma diversidade de embalagens de creme dental, que podem variar conforme a marca e ou modelo dos produtos, portanto, a unidade usada para quantificar o total de creme dental vendido será em gramas (g). A partir dessa quantidade poderão ser contabilizado montante de tubos conforme a capacidade."
   ]
  },
  {
   "cell_type": "markdown",
   "metadata": {},
   "source": [
    "3. Neste estudo de caso, está sendo caracterizada como venda a aquisição do produto pelo consumidor, sendo, portanto, desconsideradas as transações intermediárias, como por exemplo, o repasse dos fabricantes para o revendedores e/ou distribuidores.\n"
   ]
  },
  {
   "cell_type": "markdown",
   "metadata": {},
   "source": [
    "4. Para alcançar o máximo de confiabilidade, foram usados dados de fontes mais atualizada possíveis. Algumas das fontes consultadas foram: \n",
    "    * Site do IBGE: Nesta página é mostrada uma projeção em tempo real da população brasileira\n",
    "    * Repositórios de artigos científicos da area da odontologia ou estatística (Scielo)\n",
    "    * Sites e revistas on-line (Exame.com)"
   ]
  },
  {
   "cell_type": "markdown",
   "metadata": {},
   "source": [
    "O primeiro passo é identificar a quantidade de consumidores de pasta de dentes no Brasil, para isso foi realizado o cálculo abaixo:"
   ]
  },
  {
   "cell_type": "code",
   "execution_count": 10,
   "metadata": {},
   "outputs": [
    {
     "name": "stdout",
     "output_type": "stream",
     "text": [
      "85347904.4\n"
     ]
    }
   ],
   "source": [
    "num_habitantes = 213369761 # Fonte: IBGE (2021)\n",
    "percent = 40 # Fonte: UOL (2004) \n",
    "\n",
    "consumidores = num_habitantes * percent /100\n",
    "print(consumidores)"
   ]
  },
  {
   "cell_type": "markdown",
   "metadata": {},
   "source": [
    "Em seguida, obter o consumo médio mensal, conforme segue:"
   ]
  },
  {
   "cell_type": "code",
   "execution_count": 11,
   "metadata": {},
   "outputs": [
    {
     "name": "stdout",
     "output_type": "stream",
     "text": [
      "34139161760.000004\n"
     ]
    }
   ],
   "source": [
    "# 400 gramas por habitante\n",
    "consumo_medio = 400 #Fonte: Exame (2008)\n",
    "consumo_total = consumidores * consumo_medio\n",
    "\n",
    "print(consumo_total)\n"
   ]
  },
  {
   "cell_type": "code",
   "execution_count": 19,
   "metadata": {},
   "outputs": [
    {
     "name": "stdout",
     "output_type": "stream",
     "text": [
      "341391617.6\n"
     ]
    }
   ],
   "source": [
    "consumo_total_Kg = consumo_total / 100\n",
    "print(consumo_total_Kg)\n"
   ]
  },
  {
   "cell_type": "markdown",
   "metadata": {},
   "source": [
    "Por último, distribuir essa quantidade proporcionalmente aos tamanhos das embalagens comercializadas. Este último passo foi realizada apenas como uma demonstração ilustrativa da metodologia, pois os dados desta etapa foram obtidos de forma empírica."
   ]
  },
  {
   "cell_type": "markdown",
   "metadata": {},
   "source": [
    "Considerando que a ordem de embalagens mais vendidas seja, respectivamente: 90g (40%), 70g (30%), 180g (20%) e 50g (10%)"
   ]
  },
  {
   "cell_type": "code",
   "execution_count": 18,
   "metadata": {},
   "outputs": [
    {
     "name": "stdout",
     "output_type": "stream",
     "text": [
      "34139161760.000004\n"
     ]
    }
   ],
   "source": [
    "qtde_90 = (40 * consumo_total) / 100\n",
    "qtde_70 = (30 * consumo_total) / 100\n",
    "qtde_180 = (20 * consumo_total) / 100\n",
    "qtde_50 = (10 * consumo_total) / 100\n",
    "\n",
    "total = qtde_90 + qtde_70 + qtde_180 + qtde_50\n",
    "print(total)"
   ]
  },
  {
   "cell_type": "code",
   "execution_count": null,
   "metadata": {},
   "outputs": [],
   "source": [
    "Portanto, para este cenário, a resposta seria: 34.139.161.760.000004"
   ]
  },
  {
   "cell_type": "markdown",
   "metadata": {},
   "source": [
    "## Referências"
   ]
  },
  {
   "cell_type": "markdown",
   "metadata": {},
   "source": [
    "* IBGE (https://www.ibge.gov.br/apps/populacao/projecao/box_popclock.php)\n",
    "* UOF: https://tribunapr.uol.com.br/arquivo/vida-saude/40-dos-brasileiros-nao-escovam-os-dentes/\n",
    "* Exame: (https://exame.com/economia/consumo-m0040048/#:~:text=O%20n%C3%BAmero%20m%C3%A9dio%20caiu%20de,dental%20do%20que%20os%20argentinos.)"
   ]
  }
 ],
 "metadata": {
  "kernelspec": {
   "display_name": "Python 3",
   "language": "python",
   "name": "python3"
  },
  "language_info": {
   "codemirror_mode": {
    "name": "ipython",
    "version": 3
   },
   "file_extension": ".py",
   "mimetype": "text/x-python",
   "name": "python",
   "nbconvert_exporter": "python",
   "pygments_lexer": "ipython3",
   "version": "3.8.3"
  }
 },
 "nbformat": 4,
 "nbformat_minor": 4
}
